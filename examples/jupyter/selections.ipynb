{
 "cells": [
  {
   "cell_type": "code",
   "execution_count": 1,
   "id": "5f617a4b-abd3-41f4-bfb5-4a84c006dda2",
   "metadata": {},
   "outputs": [],
   "source": [
    "import requests\n",
    "import uchimata"
   ]
  },
  {
   "cell_type": "code",
   "execution_count": 2,
   "id": "13cf0906-dd50-4aa0-8d89-866bd98dc1d1",
   "metadata": {},
   "outputs": [],
   "source": [
    "def fetchFile(url):\n",
    "    response = requests.get(url)\n",
    "    if (response.status_code == 200):\n",
    "        file = response.content\n",
    "        return file\n",
    "    else:\n",
    "        print(\"Error fetching the remote file\")\n",
    "        return None\n",
    "\n",
    "url = \"https://pub-5c3f8ce35c924114a178c6e929fc3ac7.r2.dev/Tan-2018_GSM3271347_gm12878_01.arrow\"\n",
    "model = fetchFile(url)\n",
    "w = uchimata.Widget(structure=model)"
   ]
  },
  {
   "cell_type": "code",
   "execution_count": 3,
   "id": "e12c0d9e-ce55-46f8-94c1-c1d951a702f5",
   "metadata": {},
   "outputs": [
    {
     "data": {
      "application/vnd.jupyter.widget-view+json": {
       "model_id": "0140b2c661eb41fbb474102070b3a045",
       "version_major": 2,
       "version_minor": 1
      },
      "text/plain": [
       "Widget(structure=b'ARROW1\\x00\\x00\\xff\\xff\\xff\\xff0\\x01\\x00\\x00\\x10\\x00\\x00\\x00\\x00\\x00\\n\\x00\\x0c\\x00\\x06\\x00\\x…"
      ]
     },
     "execution_count": 3,
     "metadata": {},
     "output_type": "execute_result"
    }
   ],
   "source": [
    "w"
   ]
  },
  {
   "cell_type": "code",
   "execution_count": 5,
   "id": "95fe0e12-5877-4d0e-999d-91d6b0517faf",
   "metadata": {},
   "outputs": [
    {
     "data": {
      "application/vnd.jupyter.widget-view+json": {
       "model_id": "4663fbb71492467da89512a005d71f19",
       "version_major": 2,
       "version_minor": 1
      },
      "text/plain": [
       "Widget(structure=b'\\xff\\xff\\xff\\xff0\\x01\\x00\\x00\\x10\\x00\\x00\\x00\\x00\\x00\\n\\x00\\x0c\\x00\\x06\\x00\\x05\\x00\\x08\\x00…"
      ]
     },
     "execution_count": 5,
     "metadata": {},
     "output_type": "execute_result"
    }
   ],
   "source": [
    "d = uchimata.select(model, \"1(pat)\")\n",
    "w = uchimata.Widget(structure=d)\n",
    "w"
   ]
  },
  {
   "cell_type": "code",
   "execution_count": null,
   "id": "e46de88e-0716-46a1-8e0f-1ac4a71c87ac",
   "metadata": {},
   "outputs": [],
   "source": []
  }
 ],
 "metadata": {
  "kernelspec": {
   "display_name": "Python 3 (ipykernel)",
   "language": "python",
   "name": "python3"
  },
  "language_info": {
   "codemirror_mode": {
    "name": "ipython",
    "version": 3
   },
   "file_extension": ".py",
   "mimetype": "text/x-python",
   "name": "python",
   "nbconvert_exporter": "python",
   "pygments_lexer": "ipython3",
   "version": "3.11.9"
  }
 },
 "nbformat": 4,
 "nbformat_minor": 5
}
